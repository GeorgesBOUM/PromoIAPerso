{
 "cells": [
  {
   "cell_type": "markdown",
   "metadata": {},
   "source": [
    "# Les objets Series Pandas"
   ]
  },
  {
   "cell_type": "markdown",
   "metadata": {},
   "source": [
    "Les 3 types d'objets Pandas :\n",
    "- les Series\n",
    "- les DataFrames\n",
    "- les Panels (ensemble de DataFrames)"
   ]
  },
  {
   "cell_type": "markdown",
   "metadata": {},
   "source": [
    "Les types de données dans un objet Series :\n",
    "- float\n",
    "- int\n",
    "- bool\n",
    "- datetime64\n",
    "- timedelta\n",
    "- category\n",
    "- object"
   ]
  },
  {
   "cell_type": "code",
   "execution_count": 2,
   "metadata": {},
   "outputs": [
    {
     "data": {
      "text/html": [
       "<div>\n",
       "<style scoped>\n",
       "    .dataframe tbody tr th:only-of-type {\n",
       "        vertical-align: middle;\n",
       "    }\n",
       "\n",
       "    .dataframe tbody tr th {\n",
       "        vertical-align: top;\n",
       "    }\n",
       "\n",
       "    .dataframe thead th {\n",
       "        text-align: right;\n",
       "    }\n",
       "</style>\n",
       "<table border=\"1\" class=\"dataframe\">\n",
       "  <thead>\n",
       "    <tr style=\"text-align: right;\">\n",
       "      <th></th>\n",
       "      <th>FILM</th>\n",
       "      <th>RottenTomatoes</th>\n",
       "      <th>RottenTomatoes_User</th>\n",
       "      <th>Metacritic</th>\n",
       "      <th>Metacritic_User</th>\n",
       "      <th>IMDB</th>\n",
       "      <th>Fandango_Stars</th>\n",
       "      <th>Fandango_Ratingvalue</th>\n",
       "      <th>RT_norm</th>\n",
       "      <th>RT_user_norm</th>\n",
       "      <th>...</th>\n",
       "      <th>IMDB_norm</th>\n",
       "      <th>RT_norm_round</th>\n",
       "      <th>RT_user_norm_round</th>\n",
       "      <th>Metacritic_norm_round</th>\n",
       "      <th>Metacritic_user_norm_round</th>\n",
       "      <th>IMDB_norm_round</th>\n",
       "      <th>Metacritic_user_vote_count</th>\n",
       "      <th>IMDB_user_vote_count</th>\n",
       "      <th>Fandango_votes</th>\n",
       "      <th>Fandango_Difference</th>\n",
       "    </tr>\n",
       "  </thead>\n",
       "  <tbody>\n",
       "    <tr>\n",
       "      <th>0</th>\n",
       "      <td>Avengers: Age of Ultron (2015)</td>\n",
       "      <td>74</td>\n",
       "      <td>86</td>\n",
       "      <td>66</td>\n",
       "      <td>7.1</td>\n",
       "      <td>7.8</td>\n",
       "      <td>5.0</td>\n",
       "      <td>4.5</td>\n",
       "      <td>3.70</td>\n",
       "      <td>4.3</td>\n",
       "      <td>...</td>\n",
       "      <td>3.90</td>\n",
       "      <td>3.5</td>\n",
       "      <td>4.5</td>\n",
       "      <td>3.5</td>\n",
       "      <td>3.5</td>\n",
       "      <td>4.0</td>\n",
       "      <td>1330</td>\n",
       "      <td>271107</td>\n",
       "      <td>14846</td>\n",
       "      <td>0.5</td>\n",
       "    </tr>\n",
       "    <tr>\n",
       "      <th>1</th>\n",
       "      <td>Cinderella (2015)</td>\n",
       "      <td>85</td>\n",
       "      <td>80</td>\n",
       "      <td>67</td>\n",
       "      <td>7.5</td>\n",
       "      <td>7.1</td>\n",
       "      <td>5.0</td>\n",
       "      <td>4.5</td>\n",
       "      <td>4.25</td>\n",
       "      <td>4.0</td>\n",
       "      <td>...</td>\n",
       "      <td>3.55</td>\n",
       "      <td>4.5</td>\n",
       "      <td>4.0</td>\n",
       "      <td>3.5</td>\n",
       "      <td>4.0</td>\n",
       "      <td>3.5</td>\n",
       "      <td>249</td>\n",
       "      <td>65709</td>\n",
       "      <td>12640</td>\n",
       "      <td>0.5</td>\n",
       "    </tr>\n",
       "  </tbody>\n",
       "</table>\n",
       "<p>2 rows × 22 columns</p>\n",
       "</div>"
      ],
      "text/plain": [
       "                             FILM  RottenTomatoes  RottenTomatoes_User  \\\n",
       "0  Avengers: Age of Ultron (2015)              74                   86   \n",
       "1               Cinderella (2015)              85                   80   \n",
       "\n",
       "   Metacritic  Metacritic_User  IMDB  Fandango_Stars  Fandango_Ratingvalue  \\\n",
       "0          66              7.1   7.8             5.0                   4.5   \n",
       "1          67              7.5   7.1             5.0                   4.5   \n",
       "\n",
       "   RT_norm  RT_user_norm  ...  IMDB_norm  RT_norm_round  RT_user_norm_round  \\\n",
       "0     3.70           4.3  ...       3.90            3.5                 4.5   \n",
       "1     4.25           4.0  ...       3.55            4.5                 4.0   \n",
       "\n",
       "   Metacritic_norm_round  Metacritic_user_norm_round  IMDB_norm_round  \\\n",
       "0                    3.5                         3.5              4.0   \n",
       "1                    3.5                         4.0              3.5   \n",
       "\n",
       "   Metacritic_user_vote_count  IMDB_user_vote_count  Fandango_votes  \\\n",
       "0                        1330                271107           14846   \n",
       "1                         249                 65709           12640   \n",
       "\n",
       "   Fandango_Difference  \n",
       "0                  0.5  \n",
       "1                  0.5  \n",
       "\n",
       "[2 rows x 22 columns]"
      ]
     },
     "execution_count": 2,
     "metadata": {},
     "output_type": "execute_result"
    }
   ],
   "source": [
    "import pandas as pd\n",
    "\n",
    "fandango = pd.read_csv('Data/fandango-score-comparison.csv')\n",
    "fandango.head(2)"
   ]
  },
  {
   "cell_type": "markdown",
   "metadata": {},
   "source": [
    "## Indexage avec des entiers"
   ]
  },
  {
   "cell_type": "markdown",
   "metadata": {},
   "source": [
    "- Sélectionner la colonne \"FILM\" et assigner la à la variable series_film puis afficher les 5 premières valeurs.\n",
    "- Faire de même avec la colonne \"RottenTomatoes\" et assigner la à la variable series_rt puis afficher les 5 premières valeurs."
   ]
  },
  {
   "cell_type": "code",
   "execution_count": 3,
   "metadata": {},
   "outputs": [
    {
     "data": {
      "text/plain": [
       "0    Avengers: Age of Ultron (2015)\n",
       "1                 Cinderella (2015)\n",
       "2                    Ant-Man (2015)\n",
       "3            Do You Believe? (2015)\n",
       "4     Hot Tub Time Machine 2 (2015)\n",
       "Name: FILM, dtype: object"
      ]
     },
     "execution_count": 3,
     "metadata": {},
     "output_type": "execute_result"
    }
   ],
   "source": [
    "series_film = fandango['FILM']\n",
    "series_film[0:5]"
   ]
  },
  {
   "cell_type": "code",
   "execution_count": 4,
   "metadata": {},
   "outputs": [
    {
     "data": {
      "text/plain": [
       "0    74\n",
       "1    85\n",
       "2    80\n",
       "3    18\n",
       "4    14\n",
       "Name: RottenTomatoes, dtype: int64"
      ]
     },
     "execution_count": 4,
     "metadata": {},
     "output_type": "execute_result"
    }
   ],
   "source": [
    "series_rt = fandango['RottenTomatoes']\n",
    "series_rt[0:5]"
   ]
  },
  {
   "cell_type": "markdown",
   "metadata": {},
   "source": [
    "## Personnaliser son indexage"
   ]
  },
  {
   "cell_type": "markdown",
   "metadata": {},
   "source": [
    "- Créer un objet Series qu'on nommera series_perso qui aura un index de chaines de caractères et contiendra toutes les notes RottenTomatoes.\n",
    ">- Attention de bien utiliser des listes de valeurs pour nos 2 paramètres de la méthode Series()\n",
    ">- Ne pas oublier d'importer l'objet Series depuis pandas"
   ]
  },
  {
   "cell_type": "code",
   "execution_count": 9,
   "metadata": {},
   "outputs": [],
   "source": [
    "from pandas import Series"
   ]
  },
  {
   "cell_type": "code",
   "execution_count": 10,
   "metadata": {},
   "outputs": [],
   "source": [
    "series_perso = Series(series_rt.values, index=series_film.values)"
   ]
  },
  {
   "cell_type": "code",
   "execution_count": 12,
   "metadata": {},
   "outputs": [
    {
     "data": {
      "text/plain": [
       "Minions (2015)     54.0\n",
       "Leviatan (2014)     NaN\n",
       "dtype: float64"
      ]
     },
     "execution_count": 12,
     "metadata": {},
     "output_type": "execute_result"
    }
   ],
   "source": [
    "series_perso[['Minions (2015)', 'Leviatan (2014)']]"
   ]
  },
  {
   "cell_type": "code",
   "execution_count": 14,
   "metadata": {},
   "outputs": [
    {
     "data": {
      "text/plain": [
       "array([63, 42, 86, 99, 89, 84])"
      ]
     },
     "execution_count": 14,
     "metadata": {},
     "output_type": "execute_result"
    }
   ],
   "source": [
    "series_perso[5:11].values"
   ]
  },
  {
   "cell_type": "markdown",
   "metadata": {},
   "source": [
    "## Réindexer un objet Series"
   ]
  },
  {
   "cell_type": "markdown",
   "metadata": {},
   "source": [
    "Réindexer l'objet series_perso en créant un nouvel objet Series series_by_index avec la méthode .reindex() pour obtenir une série triée par __ordre alphabétique des noms des films__"
   ]
  },
  {
   "cell_type": "code",
   "execution_count": 21,
   "metadata": {},
   "outputs": [
    {
     "data": {
      "text/plain": [
       "'71 (2015)                                         97\n",
       "5 Flights Up (2015)                                52\n",
       "A Little Chaos (2015)                              40\n",
       "A Most Violent Year (2014)                         90\n",
       "About Elly (2015)                                  97\n",
       "Aloha (2015)                                       19\n",
       "American Sniper (2015)                             72\n",
       "American Ultra (2015)                              46\n",
       "Amy (2015)                                         97\n",
       "Annie (2014)                                       27\n",
       "Ant-Man (2015)                                     80\n",
       "Avengers: Age of Ultron (2015)                     74\n",
       "Big Eyes (2014)                                    72\n",
       "Birdman (2014)                                     92\n",
       "Black Sea (2015)                                   82\n",
       "Black or White (2015)                              39\n",
       "Blackhat (2015)                                    34\n",
       "Cake (2015)                                        49\n",
       "Chappie (2015)                                     30\n",
       "Child 44 (2015)                                    26\n",
       "Cinderella (2015)                                  85\n",
       "Clouds of Sils Maria (2015)                        89\n",
       "Danny Collins (2015)                               77\n",
       "Dark Places (2015)                                 26\n",
       "Do You Believe? (2015)                             18\n",
       "Dope (2015)                                        87\n",
       "Entourage (2015)                                   32\n",
       "Escobar: Paradise Lost (2015)                      52\n",
       "Ex Machina (2015)                                  92\n",
       "Fantastic Four (2015)                               9\n",
       "                                                   ..\n",
       "The Loft (2015)                                    11\n",
       "The Longest Ride (2015)                            31\n",
       "The Man From U.N.C.L.E. (2015)                     68\n",
       "The Overnight (2015)                               82\n",
       "The Salt of the Earth (2015)                       96\n",
       "The Second Best Exotic Marigold Hotel (2015)       62\n",
       "The SpongeBob Movie: Sponge Out of Water (2015)    78\n",
       "The Stanford Prison Experiment (2015)              84\n",
       "The Vatican Tapes (2015)                           13\n",
       "The Water Diviner (2015)                           63\n",
       "The Wedding Ringer (2015)                          27\n",
       "The Wolfpack (2015)                                84\n",
       "The Woman In Black 2 Angel of Death (2015)         22\n",
       "The Wrecking Crew (2015)                           93\n",
       "Timbuktu (2015)                                    99\n",
       "Tomorrowland (2015)                                50\n",
       "Top Five (2014)                                    86\n",
       "Trainwreck (2015)                                  85\n",
       "True Story (2015)                                  45\n",
       "Two Days, One Night (2014)                         97\n",
       "Unbroken (2014)                                    51\n",
       "Unfinished Business (2015)                         11\n",
       "Unfriended (2015)                                  60\n",
       "Vacation (2015)                                    27\n",
       "Welcome to Me (2015)                               71\n",
       "What We Do in the Shadows (2015)                   96\n",
       "When Marnie Was There (2015)                       89\n",
       "While We're Young (2015)                           83\n",
       "Wild Tales (2014)                                  96\n",
       "Woman in Gold (2015)                               52\n",
       "Length: 146, dtype: int64"
      ]
     },
     "execution_count": 21,
     "metadata": {},
     "output_type": "execute_result"
    }
   ],
   "source": [
    "series_by_index = series_perso.reindex(sorted(series_perso.index))\n",
    "series_by_index"
   ]
  },
  {
   "cell_type": "markdown",
   "metadata": {},
   "source": [
    "## Trier un objet Series"
   ]
  },
  {
   "cell_type": "markdown",
   "metadata": {},
   "source": [
    "La méthode reindex() vue à l'instant est un peu \"tirée par les cheveux\" pour un tri par ordre un alphabétique car il existe des méthodes sort_index() et sort_values().\n",
    "\n",
    "Trier la Series series_perso par index en utilisant la méthode sort_index() puis par valeurs avec sort_values()"
   ]
  },
  {
   "cell_type": "code",
   "execution_count": 27,
   "metadata": {},
   "outputs": [
    {
     "name": "stdout",
     "output_type": "stream",
     "text": [
      "'71 (2015)                    97\n",
      "5 Flights Up (2015)           52\n",
      "A Little Chaos (2015)         40\n",
      "A Most Violent Year (2014)    90\n",
      "About Elly (2015)             97\n",
      "Aloha (2015)                  19\n",
      "American Sniper (2015)        72\n",
      "American Ultra (2015)         46\n",
      "Amy (2015)                    97\n",
      "Annie (2014)                  27\n",
      "dtype: int64 \n",
      "\n",
      " Paul Blart: Mall Cop 2 (2015)     5\n",
      "Hitman: Agent 47 (2015)           7\n",
      "Hot Pursuit (2015)                8\n",
      "Fantastic Four (2015)             9\n",
      "Taken 3 (2015)                    9\n",
      "The Boy Next Door (2015)         10\n",
      "The Loft (2015)                  11\n",
      "Unfinished Business (2015)       11\n",
      "Mortdecai (2015)                 12\n",
      "Seventh Son (2015)               12\n",
      "dtype: int64\n"
     ]
    }
   ],
   "source": [
    "sp2 = series_perso.sort_index()\n",
    "sp3 = series_perso.sort_values()\n",
    "print(sp2[0:10],'\\n'+''+'\\n',sp3[0:10])"
   ]
  },
  {
   "cell_type": "markdown",
   "metadata": {},
   "source": [
    "## Transformation de colonnes"
   ]
  },
  {
   "cell_type": "markdown",
   "metadata": {},
   "source": [
    "Pandas étant basé sur la libraire Numpy les fonctions Numpy sont disponibles pour effectuer des opérations sur les objets Series :\n",
    "- Importer la libraire Numpy\n",
    "- Tester un certain nombre de fonctions Numpy sur series_perso : notamment normaliser la Series series_perso (échelle de notes de 0 à 100) pour obtenir une échelle de notes de 0 à 5 en assignant le nouvel objet Series à la variable series_normalized\n",
    "\n",
    "__&Agrave; noter__ : si les opérations numpy sur des array retournent un array (ou une valeur unique par exemple \"np.max\"), lorsqu'on les utilise sur un objet Series, on obtient bien un objet Series en sortie"
   ]
  },
  {
   "cell_type": "code",
   "execution_count": 29,
   "metadata": {},
   "outputs": [],
   "source": [
    "import numpy as np"
   ]
  },
  {
   "cell_type": "code",
   "execution_count": 34,
   "metadata": {},
   "outputs": [
    {
     "data": {
      "text/plain": [
       "Avengers: Age of Ultron (2015)                    148\n",
       "Cinderella (2015)                                 170\n",
       "Ant-Man (2015)                                    160\n",
       "Do You Believe? (2015)                             36\n",
       "Hot Tub Time Machine 2 (2015)                      28\n",
       "The Water Diviner (2015)                          126\n",
       "Irrational Man (2015)                              84\n",
       "Top Five (2014)                                   172\n",
       "Shaun the Sheep Movie (2015)                      198\n",
       "Love & Mercy (2015)                               178\n",
       "Far From The Madding Crowd (2015)                 168\n",
       "Black Sea (2015)                                  164\n",
       "Leviathan (2014)                                  198\n",
       "Unbroken (2014)                                   102\n",
       "The Imitation Game (2014)                         180\n",
       "Taken 3 (2015)                                     18\n",
       "Ted 2 (2015)                                       92\n",
       "Southpaw (2015)                                   118\n",
       "Night at the Museum: Secret of the Tomb (2014)    100\n",
       "Pixels (2015)                                      34\n",
       "McFarland, USA (2015)                             158\n",
       "Insidious: Chapter 3 (2015)                       118\n",
       "The Man From U.N.C.L.E. (2015)                    136\n",
       "Run All Night (2015)                              120\n",
       "Trainwreck (2015)                                 170\n",
       "Selma (2014)                                      198\n",
       "Ex Machina (2015)                                 184\n",
       "Still Alice (2015)                                176\n",
       "Wild Tales (2014)                                 192\n",
       "The End of the Tour (2015)                        184\n",
       "                                                 ... \n",
       "Clouds of Sils Maria (2015)                       178\n",
       "Testament of Youth (2015)                         162\n",
       "Infinitely Polar Bear (2015)                      160\n",
       "Phoenix (2015)                                    198\n",
       "The Wolfpack (2015)                               168\n",
       "The Stanford Prison Experiment (2015)             168\n",
       "Tangerine (2015)                                  190\n",
       "Magic Mike XXL (2015)                             124\n",
       "Home (2015)                                        90\n",
       "The Wedding Ringer (2015)                          54\n",
       "Woman in Gold (2015)                              104\n",
       "The Last Five Years (2015)                        120\n",
       "Mission: Impossible â€“ Rogue Nation (2015)       184\n",
       "Amy (2015)                                        194\n",
       "Jurassic World (2015)                             142\n",
       "Minions (2015)                                    108\n",
       "Max (2015)                                         70\n",
       "Paul Blart: Mall Cop 2 (2015)                      10\n",
       "The Longest Ride (2015)                            62\n",
       "The Lazarus Effect (2015)                          28\n",
       "The Woman In Black 2 Angel of Death (2015)         44\n",
       "Danny Collins (2015)                              154\n",
       "Spare Parts (2015)                                104\n",
       "Serena (2015)                                      36\n",
       "Inside Out (2015)                                 196\n",
       "Mr. Holmes (2015)                                 174\n",
       "'71 (2015)                                        194\n",
       "Two Days, One Night (2014)                        194\n",
       "Gett: The Trial of Viviane Amsalem (2015)         200\n",
       "Kumiko, The Treasure Hunter (2015)                174\n",
       "Length: 146, dtype: int64"
      ]
     },
     "execution_count": 34,
     "metadata": {},
     "output_type": "execute_result"
    }
   ],
   "source": [
    "# addition\n",
    "np.add(series_perso,series_perso)"
   ]
  },
  {
   "cell_type": "code",
   "execution_count": 31,
   "metadata": {},
   "outputs": [
    {
     "data": {
      "text/plain": [
       "Avengers: Age of Ultron (2015)                   -0.985146\n",
       "Cinderella (2015)                                -0.176076\n",
       "Ant-Man (2015)                                   -0.993889\n",
       "Do You Believe? (2015)                           -0.750987\n",
       "Hot Tub Time Machine 2 (2015)                     0.990607\n",
       "The Water Diviner (2015)                          0.167356\n",
       "Irrational Man (2015)                            -0.916522\n",
       "Top Five (2014)                                  -0.923458\n",
       "Shaun the Sheep Movie (2015)                     -0.999207\n",
       "Love & Mercy (2015)                               0.860069\n",
       "Far From The Madding Crowd (2015)                 0.733190\n",
       "Black Sea (2015)                                  0.313229\n",
       "Leviathan (2014)                                 -0.999207\n",
       "Unbroken (2014)                                   0.670229\n",
       "The Imitation Game (2014)                         0.893997\n",
       "Taken 3 (2015)                                    0.412118\n",
       "Ted 2 (2015)                                      0.901788\n",
       "Southpaw (2015)                                   0.636738\n",
       "Night at the Museum: Secret of the Tomb (2014)   -0.262375\n",
       "Pixels (2015)                                    -0.961397\n",
       "McFarland, USA (2015)                            -0.444113\n",
       "Insidious: Chapter 3 (2015)                       0.636738\n",
       "The Man From U.N.C.L.E. (2015)                   -0.897928\n",
       "Run All Night (2015)                             -0.304811\n",
       "Trainwreck (2015)                                -0.176076\n",
       "Selma (2014)                                     -0.999207\n",
       "Ex Machina (2015)                                -0.779466\n",
       "Still Alice (2015)                                0.035398\n",
       "Wild Tales (2014)                                 0.983588\n",
       "The End of the Tour (2015)                       -0.779466\n",
       "                                                    ...   \n",
       "Clouds of Sils Maria (2015)                       0.860069\n",
       "Testament of Youth (2015)                        -0.629888\n",
       "Infinitely Polar Bear (2015)                     -0.993889\n",
       "Phoenix (2015)                                   -0.999207\n",
       "The Wolfpack (2015)                               0.733190\n",
       "The Stanford Prison Experiment (2015)             0.733190\n",
       "Tangerine (2015)                                  0.683262\n",
       "Magic Mike XXL (2015)                            -0.739181\n",
       "Home (2015)                                       0.850904\n",
       "The Wedding Ringer (2015)                         0.956376\n",
       "Woman in Gold (2015)                              0.986628\n",
       "The Last Five Years (2015)                       -0.304811\n",
       "Mission: Impossible â€“ Rogue Nation (2015)      -0.779466\n",
       "Amy (2015)                                        0.379608\n",
       "Jurassic World (2015)                             0.951055\n",
       "Minions (2015)                                   -0.558789\n",
       "Max (2015)                                       -0.428183\n",
       "Paul Blart: Mall Cop 2 (2015)                    -0.958924\n",
       "The Longest Ride (2015)                          -0.404038\n",
       "The Lazarus Effect (2015)                         0.990607\n",
       "The Woman In Black 2 Angel of Death (2015)       -0.008851\n",
       "Danny Collins (2015)                              0.999520\n",
       "Spare Parts (2015)                                0.986628\n",
       "Serena (2015)                                    -0.750987\n",
       "Inside Out (2015)                                -0.573382\n",
       "Mr. Holmes (2015)                                -0.821818\n",
       "'71 (2015)                                        0.379608\n",
       "Two Days, One Night (2014)                        0.379608\n",
       "Gett: The Trial of Viviane Amsalem (2015)        -0.506366\n",
       "Kumiko, The Treasure Hunter (2015)               -0.821818\n",
       "Length: 146, dtype: float64"
      ]
     },
     "execution_count": 31,
     "metadata": {},
     "output_type": "execute_result"
    }
   ],
   "source": [
    "#fonction sinus\n",
    "np.sin(series_perso)"
   ]
  },
  {
   "cell_type": "code",
   "execution_count": 32,
   "metadata": {},
   "outputs": [
    {
     "data": {
      "text/plain": [
       "100"
      ]
     },
     "execution_count": 32,
     "metadata": {},
     "output_type": "execute_result"
    }
   ],
   "source": [
    "# le max\n",
    "np.max(series_perso)"
   ]
  },
  {
   "cell_type": "code",
   "execution_count": 28,
   "metadata": {},
   "outputs": [
    {
     "data": {
      "text/plain": [
       "Avengers: Age of Ultron (2015)                    3.70\n",
       "Cinderella (2015)                                 4.25\n",
       "Ant-Man (2015)                                    4.00\n",
       "Do You Believe? (2015)                            0.90\n",
       "Hot Tub Time Machine 2 (2015)                     0.70\n",
       "The Water Diviner (2015)                          3.15\n",
       "Irrational Man (2015)                             2.10\n",
       "Top Five (2014)                                   4.30\n",
       "Shaun the Sheep Movie (2015)                      4.95\n",
       "Love & Mercy (2015)                               4.45\n",
       "Far From The Madding Crowd (2015)                 4.20\n",
       "Black Sea (2015)                                  4.10\n",
       "Leviathan (2014)                                  4.95\n",
       "Unbroken (2014)                                   2.55\n",
       "The Imitation Game (2014)                         4.50\n",
       "Taken 3 (2015)                                    0.45\n",
       "Ted 2 (2015)                                      2.30\n",
       "Southpaw (2015)                                   2.95\n",
       "Night at the Museum: Secret of the Tomb (2014)    2.50\n",
       "Pixels (2015)                                     0.85\n",
       "McFarland, USA (2015)                             3.95\n",
       "Insidious: Chapter 3 (2015)                       2.95\n",
       "The Man From U.N.C.L.E. (2015)                    3.40\n",
       "Run All Night (2015)                              3.00\n",
       "Trainwreck (2015)                                 4.25\n",
       "Selma (2014)                                      4.95\n",
       "Ex Machina (2015)                                 4.60\n",
       "Still Alice (2015)                                4.40\n",
       "Wild Tales (2014)                                 4.80\n",
       "The End of the Tour (2015)                        4.60\n",
       "                                                  ... \n",
       "Clouds of Sils Maria (2015)                       4.45\n",
       "Testament of Youth (2015)                         4.05\n",
       "Infinitely Polar Bear (2015)                      4.00\n",
       "Phoenix (2015)                                    4.95\n",
       "The Wolfpack (2015)                               4.20\n",
       "The Stanford Prison Experiment (2015)             4.20\n",
       "Tangerine (2015)                                  4.75\n",
       "Magic Mike XXL (2015)                             3.10\n",
       "Home (2015)                                       2.25\n",
       "The Wedding Ringer (2015)                         1.35\n",
       "Woman in Gold (2015)                              2.60\n",
       "The Last Five Years (2015)                        3.00\n",
       "Mission: Impossible â€“ Rogue Nation (2015)       4.60\n",
       "Amy (2015)                                        4.85\n",
       "Jurassic World (2015)                             3.55\n",
       "Minions (2015)                                    2.70\n",
       "Max (2015)                                        1.75\n",
       "Paul Blart: Mall Cop 2 (2015)                     0.25\n",
       "The Longest Ride (2015)                           1.55\n",
       "The Lazarus Effect (2015)                         0.70\n",
       "The Woman In Black 2 Angel of Death (2015)        1.10\n",
       "Danny Collins (2015)                              3.85\n",
       "Spare Parts (2015)                                2.60\n",
       "Serena (2015)                                     0.90\n",
       "Inside Out (2015)                                 4.90\n",
       "Mr. Holmes (2015)                                 4.35\n",
       "'71 (2015)                                        4.85\n",
       "Two Days, One Night (2014)                        4.85\n",
       "Gett: The Trial of Viviane Amsalem (2015)         5.00\n",
       "Kumiko, The Treasure Hunter (2015)                4.35\n",
       "Length: 146, dtype: float64"
      ]
     },
     "execution_count": 28,
     "metadata": {},
     "output_type": "execute_result"
    }
   ],
   "source": [
    "# la normalisation\n",
    "series_normalized = (series_perso/20)\n",
    "series_normalized"
   ]
  },
  {
   "cell_type": "markdown",
   "metadata": {},
   "source": [
    "## Comparer et filtrer"
   ]
  },
  {
   "cell_type": "markdown",
   "metadata": {},
   "source": [
    "Créer une fonction prenant 2 paramètres entiers (la borne supérieure et la borne inférieure) et qui retourne uniquement les films dont la note est comprise entre ces 2 entiers"
   ]
  },
  {
   "cell_type": "code",
   "execution_count": 39,
   "metadata": {},
   "outputs": [
    {
     "data": {
      "text/plain": [
       "Avengers: Age of Ultron (2015)                                            74\n",
       "The Water Diviner (2015)                                                  63\n",
       "Unbroken (2014)                                                           51\n",
       "Southpaw (2015)                                                           59\n",
       "McFarland, USA (2015)                                                     79\n",
       "Insidious: Chapter 3 (2015)                                               59\n",
       "The Man From U.N.C.L.E. (2015)                                            68\n",
       "Run All Night (2015)                                                      60\n",
       "5 Flights Up (2015)                                                       52\n",
       "Welcome to Me (2015)                                                      71\n",
       "Saint Laurent (2015)                                                      51\n",
       "Maps to the Stars (2015)                                                  60\n",
       "Kingsman: The Secret Service (2015)                                       75\n",
       "Pitch Perfect 2 (2015)                                                    67\n",
       "The Age of Adaline (2015)                                                 54\n",
       "The DUFF (2015)                                                           71\n",
       "Ricki and the Flash (2015)                                                64\n",
       "Unfriended (2015)                                                         60\n",
       "American Sniper (2015)                                                    72\n",
       "The Hobbit: The Battle of the Five Armies (2014)                          61\n",
       "Paper Towns (2015)                                                        55\n",
       "Big Eyes (2014)                                                           72\n",
       "Maggie (2015)                                                             54\n",
       "The SpongeBob Movie: Sponge Out of Water (2015)                           78\n",
       "Focus (2015)                                                              57\n",
       "The Second Best Exotic Marigold Hotel (2015)                              62\n",
       "The 100-Year-Old Man Who Climbed Out the Window and Disappeared (2015)    67\n",
       "Escobar: Paradise Lost (2015)                                             52\n",
       "Into the Woods (2014)                                                     71\n",
       "Inherent Vice (2014)                                                      73\n",
       "Magic Mike XXL (2015)                                                     62\n",
       "Woman in Gold (2015)                                                      52\n",
       "The Last Five Years (2015)                                                60\n",
       "Jurassic World (2015)                                                     71\n",
       "Minions (2015)                                                            54\n",
       "Danny Collins (2015)                                                      77\n",
       "Spare Parts (2015)                                                        52\n",
       "dtype: int64"
      ]
     },
     "execution_count": 39,
     "metadata": {},
     "output_type": "execute_result"
    }
   ],
   "source": [
    "def note_entre(inf,sup):\n",
    "    return series_perso[(series_perso > inf) & (series_perso < sup)]\n",
    "\n",
    "note_entre(50,80)"
   ]
  },
  {
   "cell_type": "markdown",
   "metadata": {},
   "source": [
    "## Alignement des données"
   ]
  },
  {
   "cell_type": "markdown",
   "metadata": {},
   "source": [
    "Il s'agit du principe majeur de pandas.  \n",
    "Les objets Series s'alignent avec les indexes et les DataFrames avec les indexes et les colonnes.  \n",
    "Les Series préservent implicitement le lien entre les intitulés d'indexes et les valeurs à travers les différentes opérations et transformations. Pour les Dataframes, pandas préserve aussi le lien.  \n",
    "Ce principe permet d'uiliser pandas pour travailler avec des données et offre l'avantage comme évoqué précédemment d'utiliser numpy avec (opérations mathématiques classiques)."
   ]
  },
  {
   "cell_type": "markdown",
   "metadata": {},
   "source": [
    "Calculer la moyenne des notes des critiques et des utilisateurs de la plateforme RottenTomatoes.  \n",
    "Indications :\n",
    "- Créer les Series rt_critics (et rt_users) ayant pour valeurs les notes RottenTomatoes des critiques (des users) et comme index le nom des films\n",
    "- Utiliser des opérations mathématiques pour retourner dans un nouvel objet Series rt_mean la moyenne des notes des critiques et des utilisateurs pour chaque film"
   ]
  },
  {
   "cell_type": "code",
   "execution_count": 40,
   "metadata": {},
   "outputs": [],
   "source": [
    "rt_critics = Series(fandango['RottenTomatoes'].values, index=fandango['FILM'])\n",
    "rt_users = Series(fandango['RottenTomatoes_User'].values, index=fandango['FILM'])"
   ]
  },
  {
   "cell_type": "code",
   "execution_count": 41,
   "metadata": {},
   "outputs": [],
   "source": [
    "rt_mean = (rt_critics + rt_users)/2"
   ]
  },
  {
   "cell_type": "code",
   "execution_count": 42,
   "metadata": {},
   "outputs": [
    {
     "name": "stdout",
     "output_type": "stream",
     "text": [
      "FILM\n",
      "Avengers: Age of Ultron (2015)                    80.0\n",
      "Cinderella (2015)                                 82.5\n",
      "Ant-Man (2015)                                    85.0\n",
      "Do You Believe? (2015)                            51.0\n",
      "Hot Tub Time Machine 2 (2015)                     21.0\n",
      "The Water Diviner (2015)                          62.5\n",
      "Irrational Man (2015)                             47.5\n",
      "Top Five (2014)                                   75.0\n",
      "Shaun the Sheep Movie (2015)                      90.5\n",
      "Love & Mercy (2015)                               88.0\n",
      "Far From The Madding Crowd (2015)                 80.5\n",
      "Black Sea (2015)                                  71.0\n",
      "Leviathan (2014)                                  89.0\n",
      "Unbroken (2014)                                   60.5\n",
      "The Imitation Game (2014)                         91.0\n",
      "Taken 3 (2015)                                    27.5\n",
      "Ted 2 (2015)                                      52.0\n",
      "Southpaw (2015)                                   69.5\n",
      "Night at the Museum: Secret of the Tomb (2014)    54.0\n",
      "Pixels (2015)                                     35.5\n",
      "McFarland, USA (2015)                             84.0\n",
      "Insidious: Chapter 3 (2015)                       57.5\n",
      "The Man From U.N.C.L.E. (2015)                    74.0\n",
      "Run All Night (2015)                              59.5\n",
      "Trainwreck (2015)                                 79.5\n",
      "Selma (2014)                                      92.5\n",
      "Ex Machina (2015)                                 89.0\n",
      "Still Alice (2015)                                86.5\n",
      "Wild Tales (2014)                                 94.0\n",
      "The End of the Tour (2015)                        90.5\n",
      "                                                  ... \n",
      "Clouds of Sils Maria (2015)                       78.0\n",
      "Testament of Youth (2015)                         80.0\n",
      "Infinitely Polar Bear (2015)                      78.0\n",
      "Phoenix (2015)                                    90.0\n",
      "The Wolfpack (2015)                               78.5\n",
      "The Stanford Prison Experiment (2015)             85.5\n",
      "Tangerine (2015)                                  90.5\n",
      "Magic Mike XXL (2015)                             63.0\n",
      "Home (2015)                                       55.0\n",
      "The Wedding Ringer (2015)                         46.5\n",
      "Woman in Gold (2015)                              66.5\n",
      "The Last Five Years (2015)                        60.0\n",
      "Mission: Impossible â€“ Rogue Nation (2015)       91.0\n",
      "Amy (2015)                                        94.0\n",
      "Jurassic World (2015)                             76.0\n",
      "Minions (2015)                                    53.0\n",
      "Max (2015)                                        54.0\n",
      "Paul Blart: Mall Cop 2 (2015)                     20.5\n",
      "The Longest Ride (2015)                           52.0\n",
      "The Lazarus Effect (2015)                         18.5\n",
      "The Woman In Black 2 Angel of Death (2015)        23.5\n",
      "Danny Collins (2015)                              76.0\n",
      "Spare Parts (2015)                                67.5\n",
      "Serena (2015)                                     21.5\n",
      "Inside Out (2015)                                 94.0\n",
      "Mr. Holmes (2015)                                 82.5\n",
      "'71 (2015)                                        89.5\n",
      "Two Days, One Night (2014)                        87.5\n",
      "Gett: The Trial of Viviane Amsalem (2015)         90.5\n",
      "Kumiko, The Treasure Hunter (2015)                75.0\n",
      "Length: 146, dtype: float64\n"
     ]
    }
   ],
   "source": [
    "print(rt_mean)"
   ]
  },
  {
   "cell_type": "code",
   "execution_count": null,
   "metadata": {
    "collapsed": true
   },
   "outputs": [],
   "source": []
  }
 ],
 "metadata": {
  "kernelspec": {
   "display_name": "Python 3",
   "language": "python",
   "name": "python3"
  },
  "language_info": {
   "codemirror_mode": {
    "name": "ipython",
    "version": 3
   },
   "file_extension": ".py",
   "mimetype": "text/x-python",
   "name": "python",
   "nbconvert_exporter": "python",
   "pygments_lexer": "ipython3",
   "version": "3.7.3"
  }
 },
 "nbformat": 4,
 "nbformat_minor": 2
}
