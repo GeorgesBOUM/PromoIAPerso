{
 "cells": [
  {
   "cell_type": "markdown",
   "metadata": {
    "collapsed": true
   },
   "source": [
    "## Exercice d'analyse financière - corrigé"
   ]
  },
  {
   "cell_type": "code",
   "execution_count": 33,
   "metadata": {},
   "outputs": [],
   "source": [
    "# données \n",
    "rev = [14574.49, 7606.46, 8611.41, 9175.41, 8058.65, 8105.44, 11496.28, 9766.09, 10305.32, 14379.96, 10713.97, 15433.50]\n",
    "dep = [12051.82, 5695.07, 12319.20, 12089.72, 8658.57, 840.20, 3285.73, 5821.12, 6976.93, 16618.61, 10054.37, 3803.96]"
   ]
  },
  {
   "cell_type": "code",
   "execution_count": 43,
   "metadata": {},
   "outputs": [
    {
     "data": {
      "text/plain": [
       "[2522.67,\n",
       " 1911.39,\n",
       " -3707.79,\n",
       " -2914.31,\n",
       " -599.92,\n",
       " 7265.24,\n",
       " 8210.55,\n",
       " 3944.97,\n",
       " 3328.39,\n",
       " -2238.65,\n",
       " 659.6,\n",
       " 11629.54]"
      ]
     },
     "execution_count": 43,
     "metadata": {},
     "output_type": "execute_result"
    }
   ],
   "source": [
    "benefice = [round(rev[i]-dep[i],2) for i in range(0,len(rev))]\n",
    "benefice"
   ]
  },
  {
   "cell_type": "code",
   "execution_count": 52,
   "metadata": {},
   "outputs": [
    {
     "data": {
      "text/plain": [
       "[1765.87,\n",
       " 1337.97,\n",
       " -2595.45,\n",
       " -2040.02,\n",
       " -419.94,\n",
       " 5085.67,\n",
       " 5747.38,\n",
       " 2761.48,\n",
       " 2329.87,\n",
       " -1567.05,\n",
       " 461.72,\n",
       " 8140.68]"
      ]
     },
     "execution_count": 52,
     "metadata": {},
     "output_type": "execute_result"
    }
   ],
   "source": [
    "#calcul des taxes pour avoir le bénéfice net\n",
    "taxes = [round(i*0.30,2) for i in profit]\n",
    "\n",
    "benefice_net = []\n",
    "for i in range(0,len(rev)):\n",
    "    benefice_net.append(round(profit[i]-taxes[i],2))\n",
    "benefice_net"
   ]
  },
  {
   "cell_type": "code",
   "execution_count": 53,
   "metadata": {},
   "outputs": [
    {
     "data": {
      "text/plain": [
       "[12.1, 17.6, -30.1, -22.2, -5.2, 62.7, 50.0, 28.3, 22.6, -10.9, 4.3, 52.7]"
      ]
     },
     "execution_count": 53,
     "metadata": {},
     "output_type": "execute_result"
    }
   ],
   "source": [
    "#en pourcentage arrondi à l'unité\n",
    "marge_nette = []\n",
    "for i in range(0,len(rev)):\n",
    "    marge_nette.append(round(benefice_net[i]/rev[i]*100,1))\n",
    "marge_nette"
   ]
  },
  {
   "cell_type": "code",
   "execution_count": 59,
   "metadata": {},
   "outputs": [
    {
     "data": {
      "text/plain": [
       "1750.68"
      ]
     },
     "execution_count": 59,
     "metadata": {},
     "output_type": "execute_result"
    }
   ],
   "source": [
    "#on va avoir besoin du bénéfice mensuel net moyen pour comparer\n",
    "bene_net_moy = round(sum(benefice_net)/len(benefice_net),2)\n",
    "bene_net_moy"
   ]
  },
  {
   "cell_type": "code",
   "execution_count": 60,
   "metadata": {},
   "outputs": [
    {
     "data": {
      "text/plain": [
       "[True, False, False, False, False, True, True, True, True, False, False, True]"
      ]
     },
     "execution_count": 60,
     "metadata": {},
     "output_type": "execute_result"
    }
   ],
   "source": [
    "bons = []\n",
    "for i in range(0,len(rev)):\n",
    "    bons.append(benefice_net[i] > bene_net_moy)\n",
    "bons"
   ]
  },
  {
   "cell_type": "code",
   "execution_count": 61,
   "metadata": {},
   "outputs": [
    {
     "data": {
      "text/plain": [
       "[False, True, True, True, True, False, False, False, False, True, True, False]"
      ]
     },
     "execution_count": 61,
     "metadata": {},
     "output_type": "execute_result"
    }
   ],
   "source": [
    "mauvais = [not i for i in bons]\n",
    "mauvais"
   ]
  },
  {
   "cell_type": "code",
   "execution_count": 62,
   "metadata": {},
   "outputs": [
    {
     "data": {
      "text/plain": [
       "[False,\n",
       " False,\n",
       " False,\n",
       " False,\n",
       " False,\n",
       " False,\n",
       " False,\n",
       " False,\n",
       " False,\n",
       " False,\n",
       " False,\n",
       " True]"
      ]
     },
     "execution_count": 62,
     "metadata": {},
     "output_type": "execute_result"
    }
   ],
   "source": [
    "meilleur = [i == max(benefice_net) for i in benefice_net]\n",
    "meilleur"
   ]
  },
  {
   "cell_type": "code",
   "execution_count": 63,
   "metadata": {},
   "outputs": [
    {
     "data": {
      "text/plain": [
       "[False,\n",
       " False,\n",
       " True,\n",
       " False,\n",
       " False,\n",
       " False,\n",
       " False,\n",
       " False,\n",
       " False,\n",
       " False,\n",
       " False,\n",
       " False]"
      ]
     },
     "execution_count": 63,
     "metadata": {},
     "output_type": "execute_result"
    }
   ],
   "source": [
    "pire = []\n",
    "for i in range(0,len(rev)):\n",
    "    pire.append(benefice_net[i] == min(benefice_net))\n",
    "pire"
   ]
  },
  {
   "cell_type": "code",
   "execution_count": 64,
   "metadata": {},
   "outputs": [],
   "source": [
    "#formattage pour affichage selon les consignes\n",
    "rev_f = [int(1000*i) for i in rev]\n",
    "dep_f = [int(1000*i) for i in dep]\n",
    "bene_f = [int(1000*i) for i in benefice]\n",
    "bene_net_f = [int(1000*i) for i in benefice_net]"
   ]
  },
  {
   "cell_type": "code",
   "execution_count": 65,
   "metadata": {},
   "outputs": [
    {
     "name": "stdout",
     "output_type": "stream",
     "text": [
      "Revenus :\n",
      "[14574490, 7606460, 8611410, 9175410, 8058650, 8105440, 11496280, 9766090, 10305320, 14379960, 10713970, 15433500]\n",
      "Dépenses :\n",
      "[12051820, 5695070, 12319200, 12089720, 8658570, 840200, 3285730, 5821120, 6976930, 16618610, 10054370, 3803960]\n",
      "Bénéfice mensuel :\n",
      "[2522670, 1911390, -3707790, -2914310, -599920, 7265240, 8210549, 3944970, 3328390, -2238650, 659600, 11629540]\n",
      "Bénéfice mensuel net :\n",
      "[1765870, 1337970, -2595450, -2040020, -419940, 5085670, 5747380, 2761480, 2329870, -1567050, 461720, 8140680]\n",
      "Marge bénéficiaire nette :\n",
      "[12.1, 17.6, -30.1, -22.2, -5.2, 62.7, 50.0, 28.3, 22.6, -10.9, 4.3, 52.7]\n",
      "Bons mois :\n",
      "[True, False, False, False, False, True, True, True, True, False, False, True]\n",
      "Mauvais mois :\n",
      "[False, True, True, True, True, False, False, False, False, True, True, False]\n",
      "Meilleur mois :\n",
      "[False, False, False, False, False, False, False, False, False, False, False, True]\n",
      "Pire mois :\n",
      "[False, False, True, False, False, False, False, False, False, False, False, False]\n"
     ]
    }
   ],
   "source": [
    "print(\"Revenus :\") \n",
    "print(rev_f)\n",
    "print(\"Dépenses :\") \n",
    "print(dep_f)\n",
    "print(\"Bénéfice mensuel :\")\n",
    "print(bene_f)\n",
    "print(\"Bénéfice mensuel net :\")\n",
    "print(bene_net_f)\n",
    "print(\"Marge bénéficiaire nette :\")\n",
    "print(marge_nette)\n",
    "print(\"Bons mois :\")\n",
    "print(bons)\n",
    "print(\"Mauvais mois :\")\n",
    "print(mauvais)\n",
    "print(\"Meilleur mois :\")\n",
    "print(meilleur)\n",
    "print(\"Pire mois :\")\n",
    "print(pire)"
   ]
  },
  {
   "cell_type": "code",
   "execution_count": null,
   "metadata": {},
   "outputs": [],
   "source": []
  }
 ],
 "metadata": {
  "anaconda-cloud": {},
  "kernelspec": {
   "display_name": "Python 3",
   "language": "python",
   "name": "python3"
  },
  "language_info": {
   "codemirror_mode": {
    "name": "ipython",
    "version": 3
   },
   "file_extension": ".py",
   "mimetype": "text/x-python",
   "name": "python",
   "nbconvert_exporter": "python",
   "pygments_lexer": "ipython3",
   "version": "3.7.3"
  }
 },
 "nbformat": 4,
 "nbformat_minor": 1
}
